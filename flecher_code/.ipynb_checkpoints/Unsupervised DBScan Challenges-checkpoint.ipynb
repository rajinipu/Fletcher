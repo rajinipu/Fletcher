{
 "metadata": {
  "name": "",
  "signature": "sha256:6fa5e9011ef72ff209db1ada7ef887e079c71104ffde1c030df3a3e3b4993c3b"
 },
 "nbformat": 3,
 "nbformat_minor": 0,
 "worksheets": [
  {
   "cells": [
    {
     "cell_type": "code",
     "collapsed": false,
     "input": [
      "from pymongo import MongoClient\n",
      "import nltk\n",
      "from textblob import TextBlob\n",
      "import numpy as np\n",
      "from sklearn.feature_extraction.text import TfidfVectorizer\n",
      "from sklearn import cluster, datasets\n",
      "import requests\n",
      "from requests_oauthlib import OAuth1\n",
      "from sklearn.cluster import DBSCAN\n",
      "import tweepy\n",
      "client = MongoClient()\n",
      "congress = client.dsbc.congress\n",
      "capitolwords = client.dsbc.capitolwords"
     ],
     "language": "python",
     "metadata": {},
     "outputs": [],
     "prompt_number": 20
    },
    {
     "cell_type": "code",
     "collapsed": false,
     "input": [
      "consumer_key = \"i3aGf97N5Jx6FmVfkVXXW0ZJf\"\n",
      "consumer_secret = \"AyRPBl3znDXi2LwjumQBi07Lw9HxfAqsq8OGGjKwUNXeNfeF4O\"\n",
      "access_token = \"18925330-e3ohuDbwJMa14DpNj60LoMeilBUGIsNbKzIp34yln\"\n",
      "access_secret = \"8uVxukGHBpiWi0QcfLONUhd9ED4nr4z86dKiRgA0vCSln\"\n",
      "\n",
      "auth = tweepy.OAuthHandler(consumer_key, consumer_secret)\n",
      "auth.set_access_token(access_token, access_secret)\n",
      "api = tweepy.API(auth)\n"
     ],
     "language": "python",
     "metadata": {},
     "outputs": [],
     "prompt_number": 2
    },
    {
     "cell_type": "code",
     "collapsed": false,
     "input": [
      "tweet_cursor = MongoClient().dsbc.Twitter_Data.find({},{'user','text'})\n",
      "tweets = [t['text'] for t in tweet_cursor]\n",
      "vectorizer = TfidfVectorizer(stop_words=\"english\", ngram_range=(1,2),max_features=2500)\n",
      "tweet_vectors = vectorizer.fit_transform(tweets)\n",
      "tweet_features = vectorizer.get_feature_names()"
     ],
     "language": "python",
     "metadata": {},
     "outputs": [],
     "prompt_number": 4
    },
    {
     "cell_type": "heading",
     "level": 1,
     "metadata": {},
     "source": [
      "Challenge 1 - DBScan"
     ]
    },
    {
     "cell_type": "code",
     "collapsed": false,
     "input": [
      "db = cluster.DBSCAN()\n",
      "db_predict = db.fit_predict(tweet_vectors.toarray())"
     ],
     "language": "python",
     "metadata": {},
     "outputs": [],
     "prompt_number": 5
    },
    {
     "cell_type": "code",
     "collapsed": false,
     "input": [
      "clusters = {}\n",
      "clust_num = 7\n",
      "for n in range(clust_num):\n",
      "    l = []\n",
      "    for i in range(len(db_predict)):\n",
      "        if db_predict[i] == n:\n",
      "            top = tweets[i]\n",
      "#             t = tweet_vectors[i]\n",
      "#             top = [tweet_features[x] for x in t.indices[t.data.argsort()][::-1]] \n",
      "            l.append(top)\n",
      "    clusters[n] = l\n",
      "        "
     ],
     "language": "python",
     "metadata": {},
     "outputs": [],
     "prompt_number": 7
    },
    {
     "cell_type": "code",
     "collapsed": false,
     "input": [
      "for n in range(clust_num):\n",
      "    print 'Cluster '+str(n)\n",
      "    for twt in clusters[n][:7]:\n",
      "        print twt\n",
      "        print\n",
      "    print\n",
      "    print"
     ],
     "language": "python",
     "metadata": {},
     "outputs": [
      {
       "output_type": "stream",
       "stream": "stdout",
       "text": [
        "Cluster 0\n",
        "Modern marketers outperform their competitors in revenue growth via @forrester - http://t.co/AbAvs2hl4O\n",
        "\n",
        "Modern marketers outperform their competitors in revenue growth via @forrester - http://t.co/AbAvs2hl4O\n",
        "\n",
        "Modern marketers outperform their competitors in revenue growth via @forrester - http://t.co/AbAvs2hl4O\n",
        "\n",
        "Modern marketers outperform their competitors in revenue growth via @forrester - http://t.co/AbAvs2hl4O\n",
        "\n",
        "Modern marketers outperform their competitors in revenue growth via @forrester - http://t.co/AbAvs2hl4O\n",
        "\n",
        "Modern marketers outperform their competitors in revenue growth via @forrester - http://t.co/AbAvs2hl4O\n",
        "\n",
        "Modern marketers outperform their competitors in revenue growth via @forrester - http://t.co/AbAvs2hl4O\n",
        "\n",
        "\n",
        "\n",
        "Cluster 1\n",
        "New workshops available at MongoDB London: Data modeling for social feeds and diagnostics and debugging http://t.co/IoV2i76v0a\n",
        "\n",
        "New workshops available at MongoDB London: Data modeling for social feeds and diagnostics and debugging http://t.co/IoV2i76v0a\n",
        "\n",
        "New workshops available at MongoDB London: Data modeling for social feeds and diagnostics and debugging http://t.co/IoV2i76v0a\n",
        "\n",
        "New workshops available at MongoDB London: Data modeling for social feeds and diagnostics and debugging http://t.co/IoV2i76v0a\n",
        "\n",
        "New workshops available at MongoDB London: Data modeling for social feeds and diagnostics and debugging http://t.co/IoV2i76v0a\n",
        "\n",
        "New workshops available at MongoDB London: Data modeling for social feeds and diagnostics and debugging http://t.co/IoV2i76v0a\n",
        "\n",
        "New workshops available at MongoDB London: Data modeling for social feeds and diagnostics and debugging http://t.co/IoV2i76v0a\n",
        "\n",
        "\n",
        "\n",
        "Cluster 2\n",
        "RT @mapredit: HBase Hackathon Berlin Buzzwords 2012, register for free: http://t.co/mayX76h5\n",
        "\n",
        "RT @mapredit: HBase Hackathon Berlin Buzzwords 2012, register for free: http://t.co/mayX76h5\n",
        "\n",
        "RT @mapredit: HBase Hackathon Berlin Buzzwords 2012, register for free: http://t.co/mayX76h5\n",
        "\n",
        "RT @mapredit: HBase Hackathon Berlin Buzzwords 2012, register for free: http://t.co/mayX76h5\n",
        "\n",
        "RT @mapredit: HBase Hackathon Berlin Buzzwords 2012, register for free: http://t.co/mayX76h5\n",
        "\n",
        "RT @mapredit: HBase Hackathon Berlin Buzzwords 2012, register for free: http://t.co/mayX76h5\n",
        "\n",
        "RT @mapredit: HBase Hackathon Berlin Buzzwords 2012, register for free: http://t.co/mayX76h5\n",
        "\n",
        "\n",
        "\n",
        "Cluster 3\n",
        "RT @vwadhwa: RT @danmartell: \"I thought coding was the exact opposite of selling ..\" http://bit.ly/8fZyEu &gt; That was in my early tech ...\n",
        "\n",
        "RT @vwadhwa: RT @danmartell: \"I thought coding was the exact opposite of selling ..\" http://bit.ly/8fZyEu &gt; That was in my early tech ...\n",
        "\n",
        "RT @vwadhwa: RT @danmartell: \"I thought coding was the exact opposite of selling ..\" http://bit.ly/8fZyEu &gt; That was in my early tech ...\n",
        "\n",
        "RT @vwadhwa: RT @danmartell: \"I thought coding was the exact opposite of selling ..\" http://bit.ly/8fZyEu &gt; That was in my early tech ...\n",
        "\n",
        "RT @vwadhwa: RT @danmartell: \"I thought coding was the exact opposite of selling ..\" http://bit.ly/8fZyEu &gt; That was in my early tech ...\n",
        "\n",
        "RT @vwadhwa: RT @danmartell: \"I thought coding was the exact opposite of selling ..\" http://bit.ly/8fZyEu &gt; That was in my early tech ...\n",
        "\n",
        "RT @vwadhwa: RT @danmartell: \"I thought coding was the exact opposite of selling ..\" http://bit.ly/8fZyEu &gt; That was in my early tech ...\n",
        "\n",
        "\n",
        "\n",
        "Cluster 4\n",
        "RT @otisg: Poll: Which version of HBase are you on? Please reply or vote on http://t.co/7QgGrt3z (LinkedIn poll)  #hbase #nosql\n",
        "\n",
        "RT @otisg: Poll: Which version of HBase are you on? Please reply or vote on http://t.co/7QgGrt3z (LinkedIn poll)  #hbase #nosql\n",
        "\n",
        "RT @otisg: Poll: Which version of HBase are you on? Please reply or vote on http://t.co/7QgGrt3z (LinkedIn poll)  #hbase #nosql\n",
        "\n",
        "RT @otisg: Poll: Which version of HBase are you on? Please reply or vote on http://t.co/7QgGrt3z (LinkedIn poll)  #hbase #nosql\n",
        "\n",
        "RT @otisg: Poll: Which version of HBase are you on? Please reply or vote on http://t.co/7QgGrt3z (LinkedIn poll)  #hbase #nosql\n",
        "\n",
        "RT @otisg: Poll: Which version of HBase are you on? Please reply or vote on http://t.co/7QgGrt3z (LinkedIn poll)  #hbase #nosql\n",
        "\n",
        "RT @otisg: Poll: Which version of HBase are you on? Please reply or vote on http://t.co/7QgGrt3z (LinkedIn poll)  #hbase #nosql\n",
        "\n",
        "\n",
        "\n",
        "Cluster 5\n",
        "Catching the mean chocolate thief with Raspberry Pi, Bluemix, and Cloudant http://t.co/THkCX58eu8\n",
        "\n",
        "Catching the mean chocolate thief with Raspberry Pi, Bluemix, and Cloudant http://t.co/THkCX58eu8\n",
        "\n",
        "Catching the mean chocolate thief with Raspberry Pi, Bluemix, and Cloudant http://t.co/THkCX58eu8\n",
        "\n",
        "Catching the mean chocolate thief with Raspberry Pi, Bluemix, and Cloudant http://t.co/THkCX58eu8\n",
        "\n",
        "Catching the mean chocolate thief with Raspberry Pi, Bluemix, and Cloudant http://t.co/THkCX58eu8\n",
        "\n",
        "Catching the mean chocolate thief with Raspberry Pi, Bluemix, and Cloudant http://t.co/THkCX58eu8\n",
        "\n",
        "Catching the mean chocolate thief with Raspberry Pi, Bluemix, and Cloudant http://t.co/THkCX58eu8\n",
        "\n",
        "\n",
        "\n",
        "Cluster 6\n",
        ".@MarkVHurd on how customers want to buy mobily &amp; access information when and how they want. #mobile #video http://t.co/66f8Uqd6Rg\n",
        "\n",
        ".@MarkVHurd on how customers want to buy mobily &amp; access information when and how they want. #mobile #video http://t.co/66f8Uqd6Rg\n",
        "\n",
        ".@MarkVHurd on how customers want to buy mobily &amp; access information when and how they want. #mobile #video http://t.co/66f8Uqd6Rg\n",
        "\n",
        ".@MarkVHurd on how customers want to buy mobily &amp; access information when and how they want. #mobile #video http://t.co/66f8Uqd6Rg\n",
        "\n",
        ".@MarkVHurd on how customers want to buy mobily &amp; access information when and how they want. #mobile #video http://t.co/66f8Uqd6Rg\n",
        "\n",
        ".@MarkVHurd on how customers want to buy mobily &amp; access information when and how they want. #mobile #video http://t.co/66f8Uqd6Rg\n",
        "\n",
        ".@MarkVHurd on how customers want to buy mobily &amp; access information when and how they want. #mobile #video http://t.co/66f8Uqd6Rg\n",
        "\n",
        "\n",
        "\n"
       ]
      }
     ],
     "prompt_number": 8
    },
    {
     "cell_type": "heading",
     "level": 1,
     "metadata": {},
     "source": [
      "Challenge 4 - DBScan"
     ]
    },
    {
     "cell_type": "code",
     "collapsed": false,
     "input": [
      "cluster_full_text = {}\n",
      "for n in range(8):\n",
      "    s = ''\n",
      "    for i in range(len(db_predict)):\n",
      "        if db_predict[i] == n:\n",
      "            s = s + ' ' + tweets[i]\n",
      "    cluster_full_text[n] = s"
     ],
     "language": "python",
     "metadata": {},
     "outputs": [],
     "prompt_number": 9
    },
    {
     "cell_type": "code",
     "collapsed": false,
     "input": [
      "cluster_full = [cluster_full_text[i] for i in range(4)]"
     ],
     "language": "python",
     "metadata": {},
     "outputs": [],
     "prompt_number": 10
    },
    {
     "cell_type": "code",
     "collapsed": false,
     "input": [
      "cluster_vectorizer = TfidfVectorizer(stop_words=\"english\", ngram_range=(1,1),max_features=2500)\n",
      "cluster_vectors = cluster_vectorizer.fit_transform(cluster_full)\n",
      "cluster_features = cluster_vectorizer.get_feature_names()"
     ],
     "language": "python",
     "metadata": {},
     "outputs": [],
     "prompt_number": 11
    },
    {
     "cell_type": "code",
     "collapsed": false,
     "input": [
      "for cluster in cluster_vectors:\n",
      "    top = [cluster_features[x] for x in cluster.indices[cluster.data.argsort()][:-8:-1]]\n",
      "    print top"
     ],
     "language": "python",
     "metadata": {},
     "outputs": [
      {
       "output_type": "stream",
       "stream": "stdout",
       "text": [
        "[u'modern', u'marketers', u'outperform', u'competitors', u'revenue', u'growth', u'forrester']\n",
        "[u'new', u'workshops', u'available', u'mongodb', u'london', u'data', u'modeling']\n",
        "[u'mapredit', u'hbase', u'hackathon', u'berlin', u'buzzwords', u'2012', u'register']\n",
        "[u'rt', u'vwadhwa', u'danmartell', u'thought', u'coding', u'exact', u'opposite']\n"
       ]
      }
     ],
     "prompt_number": 12
    },
    {
     "cell_type": "heading",
     "level": 1,
     "metadata": {},
     "source": [
      "Challenge 5 DBScan"
     ]
    },
    {
     "cell_type": "code",
     "collapsed": false,
     "input": [
      "for cluster in cluster_vectors:\n",
      "    all_nn = [cluster_features[x] for x in cluster.indices[cluster.data.argsort()][::-1] if TextBlob(cluster_features[x]).tags[0][1] == 'NN']\n",
      "    top_nn = [x for x in all_nn[:6]]\n",
      "    print top_nn\n",
      "    print"
     ],
     "language": "python",
     "metadata": {},
     "outputs": [
      {
       "output_type": "stream",
       "stream": "stdout",
       "text": [
        "[u'revenue', u'growth', u'forrester', u'abavs2hl4o', u'http']\n",
        "\n",
        "[u'mongodb', u'london', u'modeling', u'iov2i76v0a', u'http']\n",
        "\n",
        "[u'mapredit', u'hbase', u'hackathon', u'berlin', u'mayx76h5', u'rt']\n",
        "\n",
        "[u'rt', u'vwadhwa', u'danmartell', u'coding', u'bit', u'8fzyeu']\n",
        "\n"
       ]
      }
     ],
     "prompt_number": 13
    },
    {
     "cell_type": "heading",
     "level": 1,
     "metadata": {},
     "source": [
      "Challenge 8 DBScan\n"
     ]
    },
    {
     "cell_type": "code",
     "collapsed": false,
     "input": [
      "import csv\n",
      "from sklearn import preprocessing\n",
      "headings = []\n",
      "customers = []\n",
      "with open('Wholesale customers data.csv', 'rb') as csvfile:\n",
      "     c = csv.reader(csvfile, delimiter=' ', quotechar='|')\n",
      "     for row in c:\n",
      "        customers.append(row)\n",
      "headings = customers.pop(0)\n",
      "headings = headings[0].split(',')"
     ],
     "language": "python",
     "metadata": {},
     "outputs": [],
     "prompt_number": 14
    },
    {
     "cell_type": "code",
     "collapsed": false,
     "input": [
      "def process(lst):\n",
      "    return [float(x) for x in lst[0].split(',')]"
     ],
     "language": "python",
     "metadata": {},
     "outputs": [],
     "prompt_number": 15
    },
    {
     "cell_type": "code",
     "collapsed": false,
     "input": [
      "customers = map(process,customers)"
     ],
     "language": "python",
     "metadata": {},
     "outputs": [],
     "prompt_number": 16
    },
    {
     "cell_type": "code",
     "collapsed": false,
     "input": [
      "customers_scaled = preprocessing.scale(customers)"
     ],
     "language": "python",
     "metadata": {},
     "outputs": [],
     "prompt_number": 17
    },
    {
     "cell_type": "code",
     "collapsed": false,
     "input": [
      "clust_num = 3\n",
      "customer_db= cluster.DBSCAN()\n",
      "customer_predict = customer_db.fit_predict(customers_scaled)"
     ],
     "language": "python",
     "metadata": {},
     "outputs": [],
     "prompt_number": 21
    },
    {
     "cell_type": "code",
     "collapsed": false,
     "input": [
      "customer_clusters = {}\n",
      "for n in range(clust_num):\n",
      "    l = []\n",
      "    for i in range(len(customer_predict)):\n",
      "        if customer_predict[i] == n:\n",
      "            l.append(customers_scaled[i])\n",
      "    customer_clusters[n] = l\n",
      "    "
     ],
     "language": "python",
     "metadata": {},
     "outputs": [],
     "prompt_number": 22
    },
    {
     "cell_type": "code",
     "collapsed": false,
     "input": [
      "import matplotlib.pyplot as plt\n",
      "import seaborn as sns\n",
      "%matplotlib inline\n",
      "counter = 0\n",
      "plt.figure(figsize=[20,20])\n",
      "for n in range(clust_num):\n",
      "    for i in range(len(headings)):\n",
      "        array = [x[i] for x in customer_clusters[n]]\n",
      "        plt.subplot(clust_num, len(headings), counter)\n",
      "        bins = [-2,-1.5,-1,-.5,0,.5,1,1.5,2]\n",
      "        plt.hist(array, bins)\n",
      "        plt.title(headings[i])\n",
      "        counter+=1"
     ],
     "language": "python",
     "metadata": {},
     "outputs": [
      {
       "output_type": "stream",
       "stream": "stderr",
       "text": [
        "/usr/local/Cellar/python/2.7.8/Frameworks/Python.framework/Versions/2.7/lib/python2.7/site-packages/pandas/__init__.py:6: RuntimeWarning: numpy.ufunc size changed, may indicate binary incompatibility\n",
        "  from . import hashtable, tslib, lib\n",
        "/usr/local/Cellar/python/2.7.8/Frameworks/Python.framework/Versions/2.7/lib/python2.7/site-packages/pandas/core/common.py:17: RuntimeWarning: numpy.ufunc size changed, may indicate binary incompatibility\n",
        "  import pandas.algos as algos\n",
        "/usr/local/Cellar/python/2.7.8/Frameworks/Python.framework/Versions/2.7/lib/python2.7/site-packages/pandas/core/index.py:12: RuntimeWarning: numpy.ufunc size changed, may indicate binary incompatibility\n",
        "  import pandas.index as _index\n",
        "/usr/local/Cellar/python/2.7.8/Frameworks/Python.framework/Versions/2.7/lib/python2.7/site-packages/pandas/sparse/array.py:16: RuntimeWarning: numpy.ufunc size changed, may indicate binary incompatibility\n",
        "  from pandas._sparse import BlockIndex, IntIndex\n",
        "/usr/local/Cellar/python/2.7.8/Frameworks/Python.framework/Versions/2.7/lib/python2.7/site-packages/pandas/io/parsers.py:26: RuntimeWarning: numpy.ufunc size changed, may indicate binary incompatibility\n",
        "  import pandas.parser as _parser\n"
       ]
      },
      {
       "output_type": "stream",
       "stream": "stderr",
       "text": [
        "/usr/local/Cellar/python/2.7.8/Frameworks/Python.framework/Versions/2.7/lib/python2.7/site-packages/pandas/io/packers.py:63: RuntimeWarning: numpy.ufunc size changed, may indicate binary incompatibility\n",
        "  from pandas.msgpack import Unpacker as _Unpacker, Packer as _Packer\n",
        "/usr/local/Cellar/python/2.7.8/Frameworks/Python.framework/Versions/2.7/lib/python2.7/site-packages/scipy/ndimage/measurements.py:36: RuntimeWarning: numpy.dtype size changed, may indicate binary incompatibility\n",
        "  from . import _ni_label\n"
       ]
      },
      {
       "output_type": "stream",
       "stream": "stderr",
       "text": [
        "/usr/local/Cellar/python/2.7.8/Frameworks/Python.framework/Versions/2.7/lib/python2.7/site-packages/scipy/ndimage/measurements.py:36: RuntimeWarning: numpy.ufunc size changed, may indicate binary incompatibility\n",
        "  from . import _ni_label\n",
        "/usr/local/Cellar/python/2.7.8/Frameworks/Python.framework/Versions/2.7/lib/python2.7/site-packages/scipy/signal/spectral.py:10: RuntimeWarning: numpy.dtype size changed, may indicate binary incompatibility\n",
        "  from ._spectral import lombscargle\n",
        "/usr/local/Cellar/python/2.7.8/Frameworks/Python.framework/Versions/2.7/lib/python2.7/site-packages/scipy/signal/spectral.py:10: RuntimeWarning: numpy.ufunc size changed, may indicate binary incompatibility\n",
        "  from ._spectral import lombscargle\n"
       ]
      },
      {
       "metadata": {},
       "output_type": "display_data",
       "png": "[encoded data removed]",
       "text": [
        "<matplotlib.figure.Figure at 0x122155dd0>"
       ]
      }
     ],
     "prompt_number": 23
    },
    {
     "cell_type": "code",
     "collapsed": false,
     "input": [],
     "language": "python",
     "metadata": {},
     "outputs": []
    }
   ],
   "metadata": {}
  }
 ]
}