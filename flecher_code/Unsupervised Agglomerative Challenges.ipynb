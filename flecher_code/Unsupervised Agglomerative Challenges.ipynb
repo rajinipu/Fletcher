{
 "metadata": {
  "name": "",
  "signature": "sha256:ae646d64ceecd485508a2400cbfcf2873f67541fafbac378d6404a6f61a37c92"
 },
 "nbformat": 3,
 "nbformat_minor": 0,
 "worksheets": [
  {
   "cells": [
    {
     "cell_type": "code",
     "collapsed": false,
     "input": [
      "from pymongo import MongoClient\n",
      "import nltk\n",
      "from textblob import TextBlob\n",
      "import numpy as np\n",
      "from sklearn.feature_extraction.text import TfidfVectorizer\n",
      "from sklearn.cluster import AgglomerativeClustering\n",
      "from sklearn import cluster, datasets\n",
      "import requests\n",
      "from requests_oauthlib import OAuth1\n",
      "import tweepy"
     ],
     "language": "python",
     "metadata": {},
     "outputs": [],
     "prompt_number": 19
    },
    {
     "cell_type": "code",
     "collapsed": false,
     "input": [
      "consumer_key = \"i3aGf97N5Jx6FmVfkVXXW0ZJf\"\n",
      "consumer_secret = \"AyRPBl3znDXi2LwjumQBi07Lw9HxfAqsq8OGGjKwUNXeNfeF4O\"\n",
      "access_token = \"18925330-e3ohuDbwJMa14DpNj60LoMeilBUGIsNbKzIp34yln\"\n",
      "access_secret = \"8uVxukGHBpiWi0QcfLONUhd9ED4nr4z86dKiRgA0vCSln\"\n",
      "\n",
      "auth = tweepy.OAuthHandler(consumer_key, consumer_secret)\n",
      "auth.set_access_token(access_token, access_secret)\n",
      "api = tweepy.API(auth)\n"
     ],
     "language": "python",
     "metadata": {},
     "outputs": [],
     "prompt_number": 2
    },
    {
     "cell_type": "code",
     "collapsed": false,
     "input": [
      "tweet_cursor = MongoClient().dsbc.Twitter_Data.find({},{'user','text'})\n",
      "tweets = [t['text'] for t in tweet_cursor]\n",
      "vectorizer = TfidfVectorizer(stop_words=\"english\", ngram_range=(1,2),max_features=2500)\n",
      "tweet_vectors = vectorizer.fit_transform(tweets)\n",
      "tweet_features = vectorizer.get_feature_names()"
     ],
     "language": "python",
     "metadata": {},
     "outputs": [],
     "prompt_number": 5
    },
    {
     "cell_type": "heading",
     "level": 1,
     "metadata": {},
     "source": [
      "Challenge 1 - Agglomerative"
     ]
    },
    {
     "cell_type": "code",
     "collapsed": false,
     "input": [
      "clust_num = 4\n",
      "agg_clustering = cluster.AgglomerativeClustering(n_clusters=clust_num, affinity='cosine',linkage='average')\n",
      "agg_predict = agg_clustering.fit_predict(tweet_vectors.toarray())"
     ],
     "language": "python",
     "metadata": {},
     "outputs": [],
     "prompt_number": 6
    },
    {
     "cell_type": "code",
     "collapsed": false,
     "input": [
      "clusters = {}\n",
      "for n in range(clust_num):\n",
      "    l = []\n",
      "    for i in range(len(agg_predict)):\n",
      "        if agg_predict[i] == n:\n",
      "            top = tweets[i]\n",
      "#             t = tweet_vectors[i]\n",
      "#             top = [tweet_features[x] for x in t.indices[t.data.argsort()][::-1]] \n",
      "            l.append(top)\n",
      "    clusters[n] = l\n",
      "        "
     ],
     "language": "python",
     "metadata": {},
     "outputs": [],
     "prompt_number": 7
    },
    {
     "cell_type": "code",
     "collapsed": false,
     "input": [],
     "language": "python",
     "metadata": {},
     "outputs": [],
     "prompt_number": 57
    },
    {
     "cell_type": "code",
     "collapsed": false,
     "input": [
      "for n in range(clust_num):\n",
      "    print 'Cluster '+str(n)\n",
      "    for twt in clusters[n][:7]:\n",
      "        print twt\n",
      "        print\n",
      "    print\n",
      "    print"
     ],
     "language": "python",
     "metadata": {},
     "outputs": [
      {
       "output_type": "stream",
       "stream": "stdout",
       "text": [
        "Cluster 0\n",
        "Showering and stuff.\n",
        "\n",
        "@d_bharvi you can do it!\n",
        "\n",
        "Swapana\n",
        "\n",
        "at potbellys with a friend\n",
        "\n",
        "Showering and stuff.\n",
        "\n",
        "@d_bharvi you can do it!\n",
        "\n",
        "Swapana\n",
        "\n",
        "\n",
        "\n",
        "Cluster 1\n",
        "RT @tlipcon: http://t.co/XYOvO1hn0e\n",
        "\n",
        "Swapana\n",
        "\n",
        "@Photocritic\n",
        "\n",
        "at potbellys with a friend\n",
        "\n",
        "Showering and stuff.\n",
        "\n",
        "@d_bharvi you can do it!\n",
        "\n",
        "Swapana\n",
        "\n",
        "\n",
        "\n",
        "Cluster 2\n",
        "Swapana\n",
        "\n",
        "Database Versus DBMS http://t.co/N4mgHx97gY\n",
        "\n",
        "Scrambled Output from db2top http://t.co/0EkPVCJOkZ\n",
        "\n",
        "Swapana\n",
        "\n",
        "@d_bharvi you can do it!\n",
        "\n",
        "@d_bharvi you can do it!\n",
        "\n",
        "Swapana\n",
        "\n",
        "\n",
        "\n",
        "Cluster 3\n",
        "pureScale enhancements included in the new DB2 Cancun Release 10.5.0.4 http://t.co/Uo41XhDAqt\n",
        "\n",
        "DB2 10 for z/OS, 1 MB Page Frames, and the Number 6656 http://t.co/m9Dr2uhoyG\n",
        "\n",
        "Informix Listener-thread: err = -408: oserr = 0: errstr = : Invalid message type received from the sqlexec process http://t.co/ELYSfhWpmo\n",
        "\n",
        "Four Facts Millennials Need to Know about the Mainframe http://t.co/9Zha68oqvz\n",
        "\n",
        "Is Your Database a Hero or a Hindrance? http://t.co/qEQFmBnxOs\n",
        "\n",
        "Have Oracle expertise?  Turn it into DB2 skills, easily http://t.co/bmO9MVe9aO\n",
        "\n",
        "Steps toward the Future: How IBM DB2 is changing the Game http://t.co/o8KKC0PS24\n",
        "\n",
        "\n",
        "\n"
       ]
      }
     ],
     "prompt_number": 8
    },
    {
     "cell_type": "heading",
     "level": 1,
     "metadata": {},
     "source": [
      "Challenge 4 - Agglomerative"
     ]
    },
    {
     "cell_type": "code",
     "collapsed": false,
     "input": [
      "cluster_full_text = {}\n",
      "for n in range(8):\n",
      "    s = ''\n",
      "    for i in range(len(agg_predict)):\n",
      "        if agg_predict[i] == n:\n",
      "            s = s + ' ' + tweets[i]\n",
      "    cluster_full_text[n] = s"
     ],
     "language": "python",
     "metadata": {},
     "outputs": [],
     "prompt_number": 9
    },
    {
     "cell_type": "code",
     "collapsed": false,
     "input": [
      "cluster_full = [cluster_full_text[i] for i in range(4)]"
     ],
     "language": "python",
     "metadata": {},
     "outputs": [],
     "prompt_number": 10
    },
    {
     "cell_type": "code",
     "collapsed": false,
     "input": [
      "cluster_vectorizer = TfidfVectorizer(stop_words=\"english\", ngram_range=(1,1),max_features=2500)\n",
      "cluster_vectors = cluster_vectorizer.fit_transform(cluster_full)\n",
      "cluster_features = cluster_vectorizer.get_feature_names()"
     ],
     "language": "python",
     "metadata": {},
     "outputs": [],
     "prompt_number": 11
    },
    {
     "cell_type": "code",
     "collapsed": false,
     "input": [
      "for cluster in cluster_vectors:\n",
      "    top = [cluster_features[x] for x in cluster.indices[cluster.data.argsort()][:-8:-1]]\n",
      "    print top"
     ],
     "language": "python",
     "metadata": {},
     "outputs": [
      {
       "output_type": "stream",
       "stream": "stdout",
       "text": [
        "[u'swapana']\n",
        "[u'photocritic', u'swapana', u'rt', u'tlipcon', u'xyovo1hn0e', u'http']\n",
        "[u'swapana', u'http', u'database', u'output', u'db2top']\n",
        "[u'http', u'rt', u'hbase', u'mongodb', u'data', u'db2', u'amp']\n"
       ]
      }
     ],
     "prompt_number": 12
    },
    {
     "cell_type": "heading",
     "level": 1,
     "metadata": {},
     "source": [
      "Challenge 5 Agglomerative"
     ]
    },
    {
     "cell_type": "code",
     "collapsed": false,
     "input": [
      "for cluster in cluster_vectors:\n",
      "    all_nn = [cluster_features[x] for x in cluster.indices[cluster.data.argsort()][::-1] if TextBlob(cluster_features[x]).tags[0][1] == 'NN']\n",
      "    top_nn = [x for x in all_nn[:6]]\n",
      "    print top_nn\n",
      "    print"
     ],
     "language": "python",
     "metadata": {},
     "outputs": [
      {
       "output_type": "stream",
       "stream": "stdout",
       "text": [
        "[u'swapana']\n",
        "\n",
        "[u'swapana', u'rt', u'tlipcon', u'xyovo1hn0e', u'http']\n",
        "\n",
        "[u'swapana', u'http', u'database', u'output', u'db2top']\n",
        "\n",
        "[u'http', u'rt', u'hbase', u'mongodb', u'db2', u'amp']"
       ]
      },
      {
       "output_type": "stream",
       "stream": "stdout",
       "text": [
        "\n",
        "\n"
       ]
      }
     ],
     "prompt_number": 13
    },
    {
     "cell_type": "heading",
     "level": 1,
     "metadata": {},
     "source": [
      "Challenge 8 Allogmerative"
     ]
    },
    {
     "cell_type": "code",
     "collapsed": false,
     "input": [
      "import csv\n",
      "from sklearn import preprocessing\n",
      "headings = []\n",
      "customers = []\n",
      "with open('Wholesale customers data.csv', 'rb') as csvfile:\n",
      "     c = csv.reader(csvfile, delimiter=' ', quotechar='|')\n",
      "     for row in c:\n",
      "        customers.append(row)\n",
      "headings = customers.pop(0)\n",
      "headings = headings[0].split(',')"
     ],
     "language": "python",
     "metadata": {},
     "outputs": [],
     "prompt_number": 14
    },
    {
     "cell_type": "code",
     "collapsed": false,
     "input": [
      "def process(lst):\n",
      "    return [float(x) for x in lst[0].split(',')]"
     ],
     "language": "python",
     "metadata": {},
     "outputs": [],
     "prompt_number": 15
    },
    {
     "cell_type": "code",
     "collapsed": false,
     "input": [
      "customers = map(process,customers)"
     ],
     "language": "python",
     "metadata": {},
     "outputs": [],
     "prompt_number": 16
    },
    {
     "cell_type": "code",
     "collapsed": false,
     "input": [
      "customers_scaled = preprocessing.scale(customers)"
     ],
     "language": "python",
     "metadata": {},
     "outputs": [],
     "prompt_number": 17
    },
    {
     "cell_type": "code",
     "collapsed": false,
     "input": [
      "clust_num = 3\n",
      "customer_agg= cluster.AgglomerativeClustering(n_clusters=clust_num)\n",
      "customer_predict = customer_agg.fit_predict(customers_scaled)"
     ],
     "language": "python",
     "metadata": {},
     "outputs": [],
     "prompt_number": 20
    },
    {
     "cell_type": "code",
     "collapsed": false,
     "input": [
      "customer_clusters = {}\n",
      "for n in range(clust_num):\n",
      "    l = []\n",
      "    for i in range(len(customer_predict)):\n",
      "        if customer_predict[i] == n:\n",
      "            l.append(customers_scaled[i])\n",
      "    customer_clusters[n] = l\n",
      "    "
     ],
     "language": "python",
     "metadata": {},
     "outputs": [],
     "prompt_number": 21
    },
    {
     "cell_type": "code",
     "collapsed": false,
     "input": [
      "import matplotlib.pyplot as plt\n",
      "import seaborn as sns\n",
      "%matplotlib inline\n",
      "counter = 0\n",
      "plt.figure(figsize=[20,20])\n",
      "for n in range(clust_num):\n",
      "    for i in range(len(headings)):\n",
      "        array = [x[i] for x in customer_clusters[n]]\n",
      "        plt.subplot(clust_num, len(headings), counter)\n",
      "        bins = [-2,-1.5,-1,-.5,0,.5,1,1.5,2]\n",
      "        plt.hist(array, bins)\n",
      "        plt.title(headings[i])\n",
      "        counter+=1"
     ],
     "language": "python",
     "metadata": {},
     "outputs": [
      {
       "output_type": "stream",
       "stream": "stderr",
       "text": [
        "/usr/local/Cellar/python/2.7.8/Frameworks/Python.framework/Versions/2.7/lib/python2.7/site-packages/pandas/__init__.py:6: RuntimeWarning: numpy.ufunc size changed, may indicate binary incompatibility\n",
        "  from . import hashtable, tslib, lib\n",
        "/usr/local/Cellar/python/2.7.8/Frameworks/Python.framework/Versions/2.7/lib/python2.7/site-packages/pandas/core/common.py:17: RuntimeWarning: numpy.ufunc size changed, may indicate binary incompatibility\n",
        "  import pandas.algos as algos\n",
        "/usr/local/Cellar/python/2.7.8/Frameworks/Python.framework/Versions/2.7/lib/python2.7/site-packages/pandas/core/index.py:12: RuntimeWarning: numpy.ufunc size changed, may indicate binary incompatibility\n",
        "  import pandas.index as _index\n",
        "/usr/local/Cellar/python/2.7.8/Frameworks/Python.framework/Versions/2.7/lib/python2.7/site-packages/pandas/sparse/array.py:16: RuntimeWarning: numpy.ufunc size changed, may indicate binary incompatibility\n",
        "  from pandas._sparse import BlockIndex, IntIndex\n",
        "/usr/local/Cellar/python/2.7.8/Frameworks/Python.framework/Versions/2.7/lib/python2.7/site-packages/pandas/io/parsers.py:26: RuntimeWarning: numpy.ufunc size changed, may indicate binary incompatibility\n",
        "  import pandas.parser as _parser\n"
       ]
      },
      {
       "output_type": "stream",
       "stream": "stderr",
       "text": [
        "/usr/local/Cellar/python/2.7.8/Frameworks/Python.framework/Versions/2.7/lib/python2.7/site-packages/pandas/io/packers.py:63: RuntimeWarning: numpy.ufunc size changed, may indicate binary incompatibility\n",
        "  from pandas.msgpack import Unpacker as _Unpacker, Packer as _Packer\n",
        "/usr/local/Cellar/python/2.7.8/Frameworks/Python.framework/Versions/2.7/lib/python2.7/site-packages/scipy/ndimage/measurements.py:36: RuntimeWarning: numpy.dtype size changed, may indicate binary incompatibility\n",
        "  from . import _ni_label\n"
       ]
      },
      {
       "output_type": "stream",
       "stream": "stderr",
       "text": [
        "/usr/local/Cellar/python/2.7.8/Frameworks/Python.framework/Versions/2.7/lib/python2.7/site-packages/scipy/ndimage/measurements.py:36: RuntimeWarning: numpy.ufunc size changed, may indicate binary incompatibility\n",
        "  from . import _ni_label\n",
        "/usr/local/Cellar/python/2.7.8/Frameworks/Python.framework/Versions/2.7/lib/python2.7/site-packages/scipy/signal/spectral.py:10: RuntimeWarning: numpy.dtype size changed, may indicate binary incompatibility\n",
        "  from ._spectral import lombscargle\n",
        "/usr/local/Cellar/python/2.7.8/Frameworks/Python.framework/Versions/2.7/lib/python2.7/site-packages/scipy/signal/spectral.py:10: RuntimeWarning: numpy.ufunc size changed, may indicate binary incompatibility\n",
        "  from ._spectral import lombscargle\n"
       ]
      },
      {
       "metadata": {},
       "output_type": "display_data",
       "png": "[encoded data removed]",
       "text": [
        "<matplotlib.figure.Figure at 0x116790c90>"
       ]
      }
     ],
     "prompt_number": 22
    },
    {
     "cell_type": "code",
     "collapsed": false,
     "input": [],
     "language": "python",
     "metadata": {},
     "outputs": []
    }
   ],
   "metadata": {}
  }
 ]
}